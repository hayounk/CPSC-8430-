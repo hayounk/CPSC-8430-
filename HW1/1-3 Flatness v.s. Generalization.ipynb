{
 "cells": [
  {
   "cell_type": "code",
   "execution_count": 1,
   "metadata": {},
   "outputs": [
    {
     "name": "stdout",
     "output_type": "stream",
     "text": [
      "WARNING:tensorflow:From <ipython-input-1-fd349d73dc3d>:8: read_data_sets (from tensorflow.contrib.learn.python.learn.datasets.mnist) is deprecated and will be removed in a future version.\n",
      "Instructions for updating:\n",
      "Please use alternatives such as official/mnist/dataset.py from tensorflow/models.\n",
      "WARNING:tensorflow:From C:\\Users\\Ha Young Kim\\Anaconda3\\lib\\site-packages\\tensorflow_core\\contrib\\learn\\python\\learn\\datasets\\mnist.py:260: maybe_download (from tensorflow.contrib.learn.python.learn.datasets.base) is deprecated and will be removed in a future version.\n",
      "Instructions for updating:\n",
      "Please write your own downloading logic.\n",
      "WARNING:tensorflow:From C:\\Users\\Ha Young Kim\\Anaconda3\\lib\\site-packages\\tensorflow_core\\contrib\\learn\\python\\learn\\datasets\\mnist.py:262: extract_images (from tensorflow.contrib.learn.python.learn.datasets.mnist) is deprecated and will be removed in a future version.\n",
      "Instructions for updating:\n",
      "Please use tf.data to implement this functionality.\n",
      "Extracting /tmp/data/train-images-idx3-ubyte.gz\n",
      "WARNING:tensorflow:From C:\\Users\\Ha Young Kim\\Anaconda3\\lib\\site-packages\\tensorflow_core\\contrib\\learn\\python\\learn\\datasets\\mnist.py:267: extract_labels (from tensorflow.contrib.learn.python.learn.datasets.mnist) is deprecated and will be removed in a future version.\n",
      "Instructions for updating:\n",
      "Please use tf.data to implement this functionality.\n",
      "Extracting /tmp/data/train-labels-idx1-ubyte.gz\n",
      "WARNING:tensorflow:From C:\\Users\\Ha Young Kim\\Anaconda3\\lib\\site-packages\\tensorflow_core\\contrib\\learn\\python\\learn\\datasets\\mnist.py:110: dense_to_one_hot (from tensorflow.contrib.learn.python.learn.datasets.mnist) is deprecated and will be removed in a future version.\n",
      "Instructions for updating:\n",
      "Please use tf.one_hot on tensors.\n",
      "Extracting /tmp/data/t10k-images-idx3-ubyte.gz\n",
      "Extracting /tmp/data/t10k-labels-idx1-ubyte.gz\n",
      "WARNING:tensorflow:From C:\\Users\\Ha Young Kim\\Anaconda3\\lib\\site-packages\\tensorflow_core\\contrib\\learn\\python\\learn\\datasets\\mnist.py:290: DataSet.__init__ (from tensorflow.contrib.learn.python.learn.datasets.mnist) is deprecated and will be removed in a future version.\n",
      "Instructions for updating:\n",
      "Please use alternatives such as official/mnist/dataset.py from tensorflow/models.\n"
     ]
    }
   ],
   "source": [
    "%matplotlib inline\n",
    "import matplotlib.pyplot as plt\n",
    "import tensorflow as tf\n",
    "import numpy as np\n",
    "\n",
    "from tensorflow.examples.tutorials.mnist import input_data\n",
    "\n",
    "mnist = input_data.read_data_sets(\"/tmp/data/\", one_hot = True)"
   ]
  },
  {
   "cell_type": "code",
   "execution_count": 2,
   "metadata": {},
   "outputs": [],
   "source": [
    "epoch = 20000"
   ]
  },
  {
   "cell_type": "code",
   "execution_count": 3,
   "metadata": {},
   "outputs": [],
   "source": [
    "x = tf.placeholder(tf.float32, [None, 784])\n",
    "y = tf.placeholder(tf.float32, [None, 10])"
   ]
  },
  {
   "cell_type": "code",
   "execution_count": 4,
   "metadata": {},
   "outputs": [],
   "source": [
    "w1 = tf.Variable(tf.zeros([784, 256]))\n",
    "w2 = tf.Variable(tf.zeros([256, 256]))\n",
    "w3 = tf.Variable(tf.zeros([256, 10]))\n",
    "\n",
    "b1 = tf.Variable(tf.zeros([256]))\n",
    "b2 = tf.Variable(tf.zeros([256]))\n",
    "b3 = tf.Variable(tf.zeros([10]))\n",
    "\n",
    "l1= tf.nn.softmax(tf.matmul(x, w1) + b1)\n",
    "l2 = tf.nn.softmax(tf.matmul(l1, w2) + b2)\n",
    "act = tf.matmul(l2, w3) + b3"
   ]
  },
  {
   "cell_type": "code",
   "execution_count": 5,
   "metadata": {},
   "outputs": [],
   "source": [
    "x_train = mnist.train.images\n",
    "y_train = mnist.train.labels\n",
    "x_test = mnist.test.images\n",
    "y_test = mnist.test.labels"
   ]
  },
  {
   "cell_type": "code",
   "execution_count": 6,
   "metadata": {},
   "outputs": [
    {
     "name": "stdout",
     "output_type": "stream",
     "text": [
      "WARNING:tensorflow:From <ipython-input-6-dde9241c557a>:1: softmax_cross_entropy_with_logits (from tensorflow.python.ops.nn_ops) is deprecated and will be removed in a future version.\n",
      "Instructions for updating:\n",
      "\n",
      "Future major versions of TensorFlow will allow gradients to flow\n",
      "into the labels input on backprop by default.\n",
      "\n",
      "See `tf.nn.softmax_cross_entropy_with_logits_v2`.\n",
      "\n"
     ]
    }
   ],
   "source": [
    "cross_entropy = tf.reduce_mean(tf.nn.softmax_cross_entropy_with_logits(logits=act, labels=y))\n",
    "train_step = tf.train.AdamOptimizer(1e-3).minimize(cross_entropy)"
   ]
  },
  {
   "cell_type": "code",
   "execution_count": 7,
   "metadata": {},
   "outputs": [],
   "source": [
    "pred = tf.equal(tf.argmax(act, 1), tf.argmax(y, 1))\n",
    "accuracy = tf.reduce_mean(tf.cast(pred, tf.float32))"
   ]
  },
  {
   "cell_type": "code",
   "execution_count": 8,
   "metadata": {},
   "outputs": [
    {
     "name": "stdout",
     "output_type": "stream",
     "text": [
      "Epoch: 10\t loss: 2.3013\t accuracy: 0.1135\n",
      "Epoch: 20\t loss: 2.3013\t accuracy: 0.1135\n",
      "Epoch: 30\t loss: 2.3013\t accuracy: 0.1135\n",
      "Epoch: 40\t loss: 2.3013\t accuracy: 0.1135\n",
      "Epoch: 50\t loss: 2.3013\t accuracy: 0.1135\n"
     ]
    }
   ],
   "source": [
    "init = tf.global_variables_initializer()\n",
    "sess = tf.Session()\n",
    "sess.run(init)\n",
    "\n",
    "batch_size = 64\n",
    "data = len(x_train)\n",
    "\n",
    "loss_list = []\n",
    "acc_list = []\n",
    "\n",
    "for epoch in range(50) :\n",
    "    for i in range(batch_size, data, batch_size):\n",
    "        batch_x = x_train[i-batch_size:i]\n",
    "        batch_y = y_train[i-batch_size:i]\n",
    "        sess.run(train_step, feed_dict={x:batch_x, y:batch_y})\n",
    "    if(epoch +1) % 10 == 0 :\n",
    "        pred, loss = sess.run([act, cross_entropy], feed_dict={x:x_test, y:y_test}) \n",
    "        acc = np.mean(np.argmax(y_test, axis=1) == np.argmax(pred, axis=1))\n",
    "        \n",
    "        print('Epoch: %d\\t loss: %1.4f\\t accuracy: %1.4f' % (epoch+1, loss, acc))\n",
    "\n",
    "        loss_list.append(1-acc)\n",
    "        acc_list.append(acc)"
   ]
  },
  {
   "cell_type": "code",
   "execution_count": 9,
   "metadata": {},
   "outputs": [
    {
     "data": {
      "text/plain": [
       "[<matplotlib.lines.Line2D at 0x1b580138fc8>]"
      ]
     },
     "execution_count": 9,
     "metadata": {},
     "output_type": "execute_result"
    },
    {
     "data": {
      "image/png": "[encoded data removed]",
      "text/plain": [
       "<Figure size 432x288 with 1 Axes>"
      ]
     },
     "metadata": {
      "needs_background": "light"
     },
     "output_type": "display_data"
    }
   ],
   "source": [
    "plt.plot(loss_list)"
   ]
  },
  {
   "cell_type": "code",
   "execution_count": 12,
   "metadata": {},
   "outputs": [],
   "source": [
    "w4 = tf.Variable(tf.zeros([784, 256]))\n",
    "w5 = tf.Variable(tf.zeros([256, 256]))\n",
    "w6 = tf.Variable(tf.zeros([256, 10]))\n",
    "\n",
    "b4 = tf.Variable(tf.zeros([256]))\n",
    "b5 = tf.Variable(tf.zeros([256]))\n",
    "b6 = tf.Variable(tf.zeros([10]))\n",
    "\n",
    "l4= tf.nn.softmax(tf.matmul(x, w4) + b4)\n",
    "l5 = tf.nn.softmax(tf.matmul(l4, w5) + b5)\n",
    "act2 = tf.matmul(l5, w6) + b6"
   ]
  },
  {
   "cell_type": "code",
   "execution_count": 13,
   "metadata": {},
   "outputs": [],
   "source": [
    "cross_entropy2 = tf.reduce_mean(tf.nn.softmax_cross_entropy_with_logits(logits=act2, labels=y))\n",
    "train_step2 = tf.train.AdamOptimizer(1e-3).minimize(cross_entropy2)"
   ]
  },
  {
   "cell_type": "code",
   "execution_count": 14,
   "metadata": {},
   "outputs": [],
   "source": [
    "pred2 = tf.equal(tf.argmax(act2, 1), tf.argmax(y, 1))\n",
    "accuracy2 = tf.reduce_mean(tf.cast(pred2, tf.float32))"
   ]
  },
  {
   "cell_type": "code",
   "execution_count": 15,
   "metadata": {},
   "outputs": [
    {
     "name": "stdout",
     "output_type": "stream",
     "text": [
      "Epoch: 10\t loss: 2.3026\t accuracy: 0.0980\n",
      "Epoch: 20\t loss: 2.3026\t accuracy: 0.0980\n",
      "Epoch: 30\t loss: 2.3026\t accuracy: 0.0980\n",
      "Epoch: 40\t loss: 2.3026\t accuracy: 0.0980\n",
      "Epoch: 50\t loss: 2.3026\t accuracy: 0.0980\n"
     ]
    }
   ],
   "source": [
    "init = tf.global_variables_initializer()\n",
    "sess = tf.Session()\n",
    "sess.run(init)\n",
    "\n",
    "batch_size = 1024\n",
    "data = len(x_train)\n",
    "\n",
    "loss_list2 = []\n",
    "acc_list2 = []\n",
    "\n",
    "for epoch in range(50) :\n",
    "    for i in range(batch_size, data, batch_size):\n",
    "        batch_x = x_train[i-batch_size:i]\n",
    "        batch_y = y_train[i-batch_size:i]\n",
    "        sess.run(train_step, feed_dict={x:batch_x, y:batch_y})\n",
    "    if(epoch +1) % 10 == 0 :\n",
    "        pred2, loss2 = sess.run([act2, cross_entropy2], feed_dict={x:x_test, y:y_test}) \n",
    "        acc2 = np.mean(np.argmax(y_test, axis=1) == np.argmax(pred2, axis=1))\n",
    "        \n",
    "        print('Epoch: %d\\t loss: %1.4f\\t accuracy: %1.4f' % (epoch+1, loss2, acc2))\n",
    "\n",
    "        loss_list2.append(1-acc2)\n",
    "        acc_list2.append(acc2)"
   ]
  },
  {
   "cell_type": "code",
   "execution_count": 16,
   "metadata": {},
   "outputs": [
    {
     "data": {
      "text/plain": [
       "[<matplotlib.lines.Line2D at 0x1b58045bf08>]"
      ]
     },
     "execution_count": 16,
     "metadata": {},
     "output_type": "execute_result"
    },
    {
     "data": {
      "image/png": "[encoded data removed]",
      "text/plain": [
       "<Figure size 432x288 with 1 Axes>"
      ]
     },
     "metadata": {
      "needs_background": "light"
     },
     "output_type": "display_data"
    }
   ],
   "source": [
    "plt.plot(loss_list2)"
   ]
  },
  {
   "cell_type": "code",
   "execution_count": 17,
   "metadata": {},
   "outputs": [],
   "source": [
    "w7 = tf.Variable(tf.zeros([784, 256]))\n",
    "w8 = tf.Variable(tf.zeros([256, 256]))\n",
    "w9 = tf.Variable(tf.zeros([256, 10]))\n",
    "\n",
    "b7 = tf.Variable(tf.zeros([256]))\n",
    "b8 = tf.Variable(tf.zeros([256]))\n",
    "b9 = tf.Variable(tf.zeros([10]))\n",
    "\n",
    "l7= tf.nn.softmax(tf.matmul(x, w7) + b7)\n",
    "l8 = tf.nn.softmax(tf.matmul(l7, w8) + b8)\n",
    "act9 = tf.matmul(l8, w9) + b9"
   ]
  },
  {
   "cell_type": "code",
   "execution_count": 18,
   "metadata": {},
   "outputs": [],
   "source": [
    "cross_entropy3 = tf.reduce_mean(tf.nn.softmax_cross_entropy_with_logits(logits=act9, labels=y))\n",
    "train_step3 = tf.train.AdamOptimizer(1e-2).minimize(cross_entropy3)"
   ]
  },
  {
   "cell_type": "code",
   "execution_count": 19,
   "metadata": {},
   "outputs": [],
   "source": [
    "pred3 = tf.equal(tf.argmax(act9, 1), tf.argmax(y, 1))\n",
    "accuracy3 = tf.reduce_mean(tf.cast(pred3, tf.float32))"
   ]
  },
  {
   "cell_type": "code",
   "execution_count": 20,
   "metadata": {},
   "outputs": [
    {
     "name": "stdout",
     "output_type": "stream",
     "text": [
      "Epoch: 10\t loss: 2.3026\t accuracy: 0.0980\n",
      "Epoch: 20\t loss: 2.3026\t accuracy: 0.0980\n",
      "Epoch: 30\t loss: 2.3026\t accuracy: 0.0980\n",
      "Epoch: 40\t loss: 2.3026\t accuracy: 0.0980\n",
      "Epoch: 50\t loss: 2.3026\t accuracy: 0.0980\n"
     ]
    }
   ],
   "source": [
    "init = tf.global_variables_initializer()\n",
    "sess = tf.Session()\n",
    "sess.run(init)\n",
    "\n",
    "batch_size = 64\n",
    "data = len(x_train)\n",
    "\n",
    "loss_list3 = []\n",
    "acc_list3 = []\n",
    "\n",
    "for epoch in range(50) :\n",
    "    for i in range(batch_size, data, batch_size):\n",
    "        batch_x = x_train[i-batch_size:i]\n",
    "        batch_y = y_train[i-batch_size:i]\n",
    "        sess.run(train_step, feed_dict={x:batch_x, y:batch_y})\n",
    "    if(epoch +1) % 10 == 0 :\n",
    "        pred3, loss3 = sess.run([act9, cross_entropy3], feed_dict={x:x_test, y:y_test}) \n",
    "        acc3 = np.mean(np.argmax(y_test, axis=1) == np.argmax(pred3, axis=1))\n",
    "        \n",
    "        print('Epoch: %d\\t loss: %1.4f\\t accuracy: %1.4f' % (epoch+1, loss3, acc3))\n",
    "\n",
    "        loss_list3.append(1-acc3)\n",
    "        acc_list3.append(acc3)"
   ]
  },
  {
   "cell_type": "code",
   "execution_count": 21,
   "metadata": {},
   "outputs": [],
   "source": [
    "w10 = tf.Variable(tf.zeros([784, 256]))\n",
    "w11 = tf.Variable(tf.zeros([256, 256]))\n",
    "w12 = tf.Variable(tf.zeros([256, 10]))\n",
    "\n",
    "b10 = tf.Variable(tf.zeros([256]))\n",
    "b11 = tf.Variable(tf.zeros([256]))\n",
    "b12 = tf.Variable(tf.zeros([10]))\n",
    "\n",
    "l10= tf.nn.softmax(tf.matmul(x, w10) + b10)\n",
    "l11 = tf.nn.softmax(tf.matmul(l10, w11) + b11)\n",
    "act12 = tf.matmul(l11, w12) + b12"
   ]
  },
  {
   "cell_type": "code",
   "execution_count": 22,
   "metadata": {},
   "outputs": [],
   "source": [
    "cross_entropy4 = tf.reduce_mean(tf.nn.softmax_cross_entropy_with_logits(logits=act12, labels=y))\n",
    "train_step4 = tf.train.AdamOptimizer(1e-2).minimize(cross_entropy4)"
   ]
  },
  {
   "cell_type": "code",
   "execution_count": 23,
   "metadata": {},
   "outputs": [],
   "source": [
    "pred4 = tf.equal(tf.argmax(act12, 1), tf.argmax(y, 1))\n",
    "accuracy4 = tf.reduce_mean(tf.cast(pred4, tf.float32))"
   ]
  },
  {
   "cell_type": "code",
   "execution_count": 24,
   "metadata": {},
   "outputs": [
    {
     "name": "stdout",
     "output_type": "stream",
     "text": [
      "Epoch: 10\t loss: 2.3026\t accuracy: 0.0980\n",
      "Epoch: 20\t loss: 2.3026\t accuracy: 0.0980\n",
      "Epoch: 30\t loss: 2.3026\t accuracy: 0.0980\n",
      "Epoch: 40\t loss: 2.3026\t accuracy: 0.0980\n",
      "Epoch: 50\t loss: 2.3026\t accuracy: 0.0980\n"
     ]
    }
   ],
   "source": [
    "init = tf.global_variables_initializer()\n",
    "sess = tf.Session()\n",
    "sess.run(init)\n",
    "\n",
    "batch_size = 1024\n",
    "data = len(x_train)\n",
    "\n",
    "loss_list4 = []\n",
    "acc_list4 = []\n",
    "\n",
    "for epoch in range(50) :\n",
    "    for i in range(batch_size, data, batch_size):\n",
    "        batch_x = x_train[i-batch_size:i]\n",
    "        batch_y = y_train[i-batch_size:i]\n",
    "        sess.run(train_step, feed_dict={x:batch_x, y:batch_y})\n",
    "    if(epoch +1) % 10 == 0 :\n",
    "        pred4, loss4 = sess.run([act12, cross_entropy4], feed_dict={x:x_test, y:y_test}) \n",
    "        acc4 = np.mean(np.argmax(y_test, axis=1) == np.argmax(pred4, axis=1))\n",
    "        \n",
    "        print('Epoch: %d\\t loss: %1.4f\\t accuracy: %1.4f' % (epoch+1, loss4, acc4))\n",
    "\n",
    "        loss_list4.append(1-acc4)\n",
    "        acc_list4.append(acc4)"
   ]
  },
  {
   "cell_type": "code",
   "execution_count": 27,
   "metadata": {},
   "outputs": [
    {
     "data": {
      "text/plain": [
       "<matplotlib.legend.Legend at 0x1b580702a48>"
      ]
     },
     "execution_count": 27,
     "metadata": {},
     "output_type": "execute_result"
    },
    {
     "data": {
      "image/png": "[encoded data removed]",
      "text/plain": [
       "<Figure size 432x288 with 1 Axes>"
      ]
     },
     "metadata": {
      "needs_background": "light"
     },
     "output_type": "display_data"
    }
   ],
   "source": [
    "plt.plot(loss_list, label='batch_size64, 1e-3')\n",
    "plt.plot(loss_list2, label='batch_size1024, 1e-3')\n",
    "plt.plot(loss_list3, label='batch_size64, 1e-2')\n",
    "plt.plot(loss_list4, label='batch_size1024, 1e-2')\n",
    "plt.legend()"
   ]
  }
 ],
 "metadata": {
  "kernelspec": {
   "display_name": "tensorflow",
   "language": "python",
   "name": "tensorflow"
  },
  "language_info": {
   "codemirror_mode": {
    "name": "ipython",
    "version": 3
   },
   "file_extension": ".py",
   "mimetype": "text/x-python",
   "name": "python",
   "nbconvert_exporter": "python",
   "pygments_lexer": "ipython3",
   "version": "3.7.4"
  }
 },
 "nbformat": 4,
 "nbformat_minor": 4
}
